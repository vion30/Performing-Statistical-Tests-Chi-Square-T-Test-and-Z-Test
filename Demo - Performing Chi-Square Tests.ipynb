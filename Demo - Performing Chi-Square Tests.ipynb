{
 "cells": [
  {
   "cell_type": "markdown",
   "metadata": {},
   "source": [
    "# Demo – Performing Chi-Square Tests\n",
    "\n",
    "\n",
    "In this demo, you will be shown how to perform Chi-square tests."
   ]
  },
  {
   "cell_type": "markdown",
   "metadata": {},
   "source": [
    "# Scenario\n",
    "\n",
    "We have a data of students in a university. Administrator of this university wants to test some assumptions regarding the college. So the administrator uses the statistical tests to check those assumptions.\n",
    "    \n",
    "![image.png](attachment:image.png)\n",
    "\n",
    "\n",
    "The data set has following columns:\n",
    "    1. stud.id\n",
    "    2. name\n",
    "    3. gender\n",
    "    4. age\n",
    "    5. height\n",
    "    6. weight\n",
    "    7. religion\n",
    "    8. nc.score\n",
    "    9. semester\n",
    "    10. major\n",
    "    11. minor\n",
    "    12. score1\n",
    "    13. score2\n",
    "    14. online.tutorial\n",
    "    15. graduated\n",
    "    16. salary\n",
    "<br>\n",
    "<br>\n",
    "\n",
    "# Topics covered:\n",
    "      - Chi-square Tests"
   ]
  },
  {
   "cell_type": "markdown",
   "metadata": {},
   "source": [
    "# Objectives\n",
    "In this demo we will,\n",
    "- Draw conclusions about the data\n",
    "- Apply types of Chi–square Test to know the relation between categorical variables"
   ]
  },
  {
   "cell_type": "code",
   "execution_count": 1,
   "metadata": {},
   "outputs": [],
   "source": [
    "# importing packages\n",
    "\n",
    "import pandas as pd\n",
    "import numpy as np\n",
    "import seaborn as sns"
   ]
  },
  {
   "cell_type": "code",
   "execution_count": 2,
   "metadata": {},
   "outputs": [
    {
     "data": {
      "text/html": [
       "<div>\n",
       "<style scoped>\n",
       "    .dataframe tbody tr th:only-of-type {\n",
       "        vertical-align: middle;\n",
       "    }\n",
       "\n",
       "    .dataframe tbody tr th {\n",
       "        vertical-align: top;\n",
       "    }\n",
       "\n",
       "    .dataframe thead th {\n",
       "        text-align: right;\n",
       "    }\n",
       "</style>\n",
       "<table border=\"1\" class=\"dataframe\">\n",
       "  <thead>\n",
       "    <tr style=\"text-align: right;\">\n",
       "      <th></th>\n",
       "      <th>stud.id</th>\n",
       "      <th>name</th>\n",
       "      <th>gender</th>\n",
       "      <th>age</th>\n",
       "      <th>height</th>\n",
       "      <th>weight</th>\n",
       "      <th>religion</th>\n",
       "      <th>nc.score</th>\n",
       "      <th>semester</th>\n",
       "      <th>major</th>\n",
       "      <th>minor</th>\n",
       "      <th>score1</th>\n",
       "      <th>score2</th>\n",
       "      <th>online.tutorial</th>\n",
       "      <th>graduated</th>\n",
       "      <th>salary</th>\n",
       "    </tr>\n",
       "  </thead>\n",
       "  <tbody>\n",
       "    <tr>\n",
       "      <th>1</th>\n",
       "      <td>833917</td>\n",
       "      <td>Gonzales, Christina</td>\n",
       "      <td>Female</td>\n",
       "      <td>19</td>\n",
       "      <td>160</td>\n",
       "      <td>64.8</td>\n",
       "      <td>Muslim</td>\n",
       "      <td>1.91</td>\n",
       "      <td>1st</td>\n",
       "      <td>Political Science</td>\n",
       "      <td>Social Sciences</td>\n",
       "      <td>NaN</td>\n",
       "      <td>NaN</td>\n",
       "      <td>0</td>\n",
       "      <td>0</td>\n",
       "      <td>NaN</td>\n",
       "    </tr>\n",
       "    <tr>\n",
       "      <th>2</th>\n",
       "      <td>898539</td>\n",
       "      <td>Lozano, T'Hani</td>\n",
       "      <td>Female</td>\n",
       "      <td>19</td>\n",
       "      <td>172</td>\n",
       "      <td>73.0</td>\n",
       "      <td>Other</td>\n",
       "      <td>1.56</td>\n",
       "      <td>2nd</td>\n",
       "      <td>Social Sciences</td>\n",
       "      <td>Mathematics and Statistics</td>\n",
       "      <td>NaN</td>\n",
       "      <td>NaN</td>\n",
       "      <td>0</td>\n",
       "      <td>0</td>\n",
       "      <td>NaN</td>\n",
       "    </tr>\n",
       "    <tr>\n",
       "      <th>3</th>\n",
       "      <td>379678</td>\n",
       "      <td>Williams, Hanh</td>\n",
       "      <td>Female</td>\n",
       "      <td>22</td>\n",
       "      <td>168</td>\n",
       "      <td>70.6</td>\n",
       "      <td>Protestant</td>\n",
       "      <td>1.24</td>\n",
       "      <td>3rd</td>\n",
       "      <td>Social Sciences</td>\n",
       "      <td>Mathematics and Statistics</td>\n",
       "      <td>45.0</td>\n",
       "      <td>46.0</td>\n",
       "      <td>0</td>\n",
       "      <td>0</td>\n",
       "      <td>NaN</td>\n",
       "    </tr>\n",
       "    <tr>\n",
       "      <th>4</th>\n",
       "      <td>807564</td>\n",
       "      <td>Nem, Denzel</td>\n",
       "      <td>Male</td>\n",
       "      <td>19</td>\n",
       "      <td>183</td>\n",
       "      <td>79.7</td>\n",
       "      <td>Other</td>\n",
       "      <td>1.37</td>\n",
       "      <td>2nd</td>\n",
       "      <td>Environmental Sciences</td>\n",
       "      <td>Mathematics and Statistics</td>\n",
       "      <td>NaN</td>\n",
       "      <td>NaN</td>\n",
       "      <td>0</td>\n",
       "      <td>0</td>\n",
       "      <td>NaN</td>\n",
       "    </tr>\n",
       "    <tr>\n",
       "      <th>5</th>\n",
       "      <td>383291</td>\n",
       "      <td>Powell, Heather</td>\n",
       "      <td>Female</td>\n",
       "      <td>21</td>\n",
       "      <td>175</td>\n",
       "      <td>71.4</td>\n",
       "      <td>Catholic</td>\n",
       "      <td>1.46</td>\n",
       "      <td>1st</td>\n",
       "      <td>Environmental Sciences</td>\n",
       "      <td>Mathematics and Statistics</td>\n",
       "      <td>NaN</td>\n",
       "      <td>NaN</td>\n",
       "      <td>0</td>\n",
       "      <td>0</td>\n",
       "      <td>NaN</td>\n",
       "    </tr>\n",
       "  </tbody>\n",
       "</table>\n",
       "</div>"
      ],
      "text/plain": [
       "   stud.id                 name  gender  age  height  weight    religion  \\\n",
       "1   833917  Gonzales, Christina  Female   19     160    64.8      Muslim   \n",
       "2   898539       Lozano, T'Hani  Female   19     172    73.0       Other   \n",
       "3   379678       Williams, Hanh  Female   22     168    70.6  Protestant   \n",
       "4   807564          Nem, Denzel    Male   19     183    79.7       Other   \n",
       "5   383291      Powell, Heather  Female   21     175    71.4    Catholic   \n",
       "\n",
       "   nc.score semester                   major                       minor  \\\n",
       "1      1.91      1st       Political Science             Social Sciences   \n",
       "2      1.56      2nd         Social Sciences  Mathematics and Statistics   \n",
       "3      1.24      3rd         Social Sciences  Mathematics and Statistics   \n",
       "4      1.37      2nd  Environmental Sciences  Mathematics and Statistics   \n",
       "5      1.46      1st  Environmental Sciences  Mathematics and Statistics   \n",
       "\n",
       "   score1  score2  online.tutorial  graduated  salary  \n",
       "1     NaN     NaN                0          0     NaN  \n",
       "2     NaN     NaN                0          0     NaN  \n",
       "3    45.0    46.0                0          0     NaN  \n",
       "4     NaN     NaN                0          0     NaN  \n",
       "5     NaN     NaN                0          0     NaN  "
      ]
     },
     "execution_count": 2,
     "metadata": {},
     "output_type": "execute_result"
    }
   ],
   "source": [
    "# Reading a csv file\n",
    "\n",
    "data = pd.read_csv('students.csv')\n",
    "data.head()"
   ]
  },
  {
   "cell_type": "code",
   "execution_count": 3,
   "metadata": {},
   "outputs": [],
   "source": [
    "data = data.dropna()"
   ]
  },
  {
   "cell_type": "markdown",
   "metadata": {},
   "source": [
    "## Chi-Square Test for Goodness of Fit\n",
    "### Q. Find whether there is equal proportion of males and females in university?\n",
    "The hypothesis testing is done in 5 steps\n",
    "    1. Determine the hypothesis statements\n",
    "    2. Collecting data\n",
    "    3. Determine the significance level\n",
    "    4. Statistical test\n",
    "    5. Interpret the result\n",
    "    \n",
    "<b>1. Determine the hypothesis statement</b><br>\n",
    "<b>Null Hypothesis (H0):</b> Proportion of male and female is same<br>\n",
    "<b>Alternative Hypothesis (H1):</b> Proportion of male and female is not same\n",
    "\n",
    "<b>2. Collecting data</b><br>\n",
    "A sample data of scores of 500 students is collected to test the hypothesis.<br> "
   ]
  },
  {
   "cell_type": "code",
   "execution_count": 6,
   "metadata": {},
   "outputs": [
    {
     "data": {
      "text/html": [
       "<div>\n",
       "<style scoped>\n",
       "    .dataframe tbody tr th:only-of-type {\n",
       "        vertical-align: middle;\n",
       "    }\n",
       "\n",
       "    .dataframe tbody tr th {\n",
       "        vertical-align: top;\n",
       "    }\n",
       "\n",
       "    .dataframe thead th {\n",
       "        text-align: right;\n",
       "    }\n",
       "</style>\n",
       "<table border=\"1\" class=\"dataframe\">\n",
       "  <thead>\n",
       "    <tr style=\"text-align: right;\">\n",
       "      <th>gender</th>\n",
       "      <th>Female</th>\n",
       "      <th>Male</th>\n",
       "    </tr>\n",
       "    <tr>\n",
       "      <th>gender</th>\n",
       "      <th></th>\n",
       "      <th></th>\n",
       "    </tr>\n",
       "  </thead>\n",
       "  <tbody>\n",
       "    <tr>\n",
       "      <th>Female</th>\n",
       "      <td>193</td>\n",
       "      <td>0</td>\n",
       "    </tr>\n",
       "    <tr>\n",
       "      <th>Male</th>\n",
       "      <td>0</td>\n",
       "      <td>307</td>\n",
       "    </tr>\n",
       "  </tbody>\n",
       "</table>\n",
       "</div>"
      ],
      "text/plain": [
       "gender  Female  Male\n",
       "gender              \n",
       "Female     193     0\n",
       "Male         0   307"
      ]
     },
     "execution_count": 6,
     "metadata": {},
     "output_type": "execute_result"
    }
   ],
   "source": [
    "data_table = pd.crosstab(data.gender.sample(500,random_state=1),data.gender.sample(500,random_state=1))\n",
    "data_table"
   ]
  },
  {
   "cell_type": "markdown",
   "metadata": {},
   "source": [
    " this code creates a table where the rows represent one random sample of genders, and the columns represent another random sample of genders. "
   ]
  },
  {
   "cell_type": "markdown",
   "metadata": {},
   "source": [
    "We have obtained the data required for the hypothesis test\n",
    "<br><br><br>\n",
    "<b>3. Determine Significance Level</b><br>\n",
    "Let us consider a significance level of 0.05, it means we are 95% confident about the hypothesis test"
   ]
  },
  {
   "cell_type": "code",
   "execution_count": 22,
   "metadata": {},
   "outputs": [],
   "source": [
    "# determining significance level\n",
    "\n",
    "alpha = 0.05"
   ]
  },
  {
   "cell_type": "markdown",
   "metadata": {},
   "source": [
    "<b>4. Statitical Test</b><br>\n",
    "We can perform the Chi-Square Test for Goodness of Fit\n",
    "\n",
    "Find the critical point using Percent Point Function(PPF) or by using chi2-table <br>\n",
    "We need significance level and degrees of freedom to find the critical value<br>\n",
    "\n",
    "alpha = 0.05<br>\n",
    "DOF = (number of categories-1) = 1"
   ]
  },
  {
   "cell_type": "code",
   "execution_count": 23,
   "metadata": {},
   "outputs": [
    {
     "name": "stdout",
     "output_type": "stream",
     "text": [
      "The critical value of 95% confidence level and with 1 degrees of freedom: 5.023886187314888\n"
     ]
    }
   ],
   "source": [
    "from scipy.stats import chi2 ####chi2 function allows you to work with the Chi-Square distribution\n",
    "\n",
    "# Defining the probability\n",
    "p = 1 - alpha/2\n",
    "\n",
    "# Degrees of freedom\n",
    "df = 1\n",
    "\n",
    "critical_value = chi2.ppf(p,df)\n",
    "print(\"The critical value of 95% confidence level and with 1 degrees of freedom:\",critical_value)"
   ]
  },
  {
   "cell_type": "code",
   "execution_count": 24,
   "metadata": {},
   "outputs": [
    {
     "name": "stdout",
     "output_type": "stream",
     "text": [
      "chi2-statistic value is: 25.992\n",
      "p-value is: 3.4283506780566255e-07\n"
     ]
    }
   ],
   "source": [
    "from scipy.stats import chisquare\n",
    "\n",
    "# Calculating chi2-statistic\n",
    "chi2_statistic, p_value = chisquare([193,307],[250,250])\n",
    "print('chi2-statistic value is:',chi2_statistic)\n",
    "print('p-value is:',p_value)"
   ]
  },
  {
   "cell_type": "markdown",
   "metadata": {},
   "source": [
    "The number \"3.4283506780566255e-07\" is a very small numerical value expressed in scientific notation. In scientific notation, numbers are written as a coefficient (a decimal number between 1 and 10) multiplied by a power of 10.So, \"3.4283506780566255e-07\" means a number that is extremely close to zero, specifically a value that is 1.978831358085926 times 10 to the power of -07."
   ]
  },
  {
   "cell_type": "markdown",
   "metadata": {},
   "source": [
    "<b>5. Interpret the Result</b>\n",
    "\n",
    "If the chi-square statistic is greater than +(critical value) or less than -(critical value) then we reject the Null Hypothesis."
   ]
  },
  {
   "cell_type": "code",
   "execution_count": 25,
   "metadata": {},
   "outputs": [
    {
     "name": "stdout",
     "output_type": "stream",
     "text": [
      "Reject Null Hypothesis. Proportion of male and female is not same\n"
     ]
    }
   ],
   "source": [
    "if -(critical_value) < chi2_statistic < +(critical_value):\n",
    "    print('Fail to reject Null Hypothesis. Proportion of male and female is same.')\n",
    "else:\n",
    "    print('Reject Null Hypothesis. Proportion of male and female is not same')"
   ]
  },
  {
   "cell_type": "markdown",
   "metadata": {},
   "source": [
    "In a chi-square test, you typically reject the null hypothesis when the chi-square statistic is greater than the critical value."
   ]
  },
  {
   "cell_type": "markdown",
   "metadata": {},
   "source": [
    "### Inference\n",
    "We have performed a hypothesis test to check whether the proportion of male and female is not same or not.<br>\n",
    "After performing the hypothesis test and we conclude that the proportion of male and female is not same"
   ]
  },
  {
   "cell_type": "markdown",
   "metadata": {},
   "source": [
    "## Chi-Square Test for Independence\n",
    "### Q. Find whether there is any relationship between the gender and the major of the student?\n",
    "The hypothesis testing is done in 5 steps\n",
    "    1. Determine the hypothesis statements\n",
    "    2. Collecting data\n",
    "    3. Determine the significance level\n",
    "    4. Statistical test\n",
    "    5. Interpret the result\n",
    "    \n",
    "<b>1. Determine the hypothesis statement</b><br>\n",
    "<b>Null Hypothesis (H0):</b> ): There is no relationship between gender and major<br>\n",
    "<b>Alternative Hypothesis (H1):</b> There is a relationship between gender and major\n",
    "\n",
    "<b>2. Collecting data</b><br>\n",
    "The data of gender and major are collected to test the hypothesis.<br> "
   ]
  },
  {
   "cell_type": "code",
   "execution_count": 4,
   "metadata": {},
   "outputs": [
    {
     "data": {
      "text/html": [
       "<div>\n",
       "<style scoped>\n",
       "    .dataframe tbody tr th:only-of-type {\n",
       "        vertical-align: middle;\n",
       "    }\n",
       "\n",
       "    .dataframe tbody tr th {\n",
       "        vertical-align: top;\n",
       "    }\n",
       "\n",
       "    .dataframe thead th {\n",
       "        text-align: right;\n",
       "    }\n",
       "</style>\n",
       "<table border=\"1\" class=\"dataframe\">\n",
       "  <thead>\n",
       "    <tr style=\"text-align: right;\">\n",
       "      <th>gender</th>\n",
       "      <th>Female</th>\n",
       "      <th>Male</th>\n",
       "    </tr>\n",
       "    <tr>\n",
       "      <th>major</th>\n",
       "      <th></th>\n",
       "      <th></th>\n",
       "    </tr>\n",
       "  </thead>\n",
       "  <tbody>\n",
       "    <tr>\n",
       "      <th>Biology</th>\n",
       "      <td>152</td>\n",
       "      <td>178</td>\n",
       "    </tr>\n",
       "    <tr>\n",
       "      <th>Economics and Finance</th>\n",
       "      <td>73</td>\n",
       "      <td>222</td>\n",
       "    </tr>\n",
       "    <tr>\n",
       "      <th>Environmental Sciences</th>\n",
       "      <td>114</td>\n",
       "      <td>231</td>\n",
       "    </tr>\n",
       "    <tr>\n",
       "      <th>Mathematics and Statistics</th>\n",
       "      <td>48</td>\n",
       "      <td>240</td>\n",
       "    </tr>\n",
       "    <tr>\n",
       "      <th>Political Science</th>\n",
       "      <td>164</td>\n",
       "      <td>125</td>\n",
       "    </tr>\n",
       "    <tr>\n",
       "      <th>Social Sciences</th>\n",
       "      <td>123</td>\n",
       "      <td>83</td>\n",
       "    </tr>\n",
       "  </tbody>\n",
       "</table>\n",
       "</div>"
      ],
      "text/plain": [
       "gender                      Female  Male\n",
       "major                                   \n",
       "Biology                        152   178\n",
       "Economics and Finance           73   222\n",
       "Environmental Sciences         114   231\n",
       "Mathematics and Statistics      48   240\n",
       "Political Science              164   125\n",
       "Social Sciences                123    83"
      ]
     },
     "execution_count": 4,
     "metadata": {},
     "output_type": "execute_result"
    }
   ],
   "source": [
    "data_table = pd.crosstab(data.major, data.gender)\n",
    "data_table"
   ]
  },
  {
   "cell_type": "markdown",
   "metadata": {},
   "source": [
    "We have obtained the data required for the hypothesis test\n",
    "<br><br><br>\n",
    "<b>3. Determine Significance Level</b><br>\n",
    "Let us consider a significance level of 0.05, it means we are 95% confident about the hypothesis test"
   ]
  },
  {
   "cell_type": "code",
   "execution_count": 5,
   "metadata": {},
   "outputs": [],
   "source": [
    "# determining significance level\n",
    "\n",
    "alpha = 0.05"
   ]
  },
  {
   "cell_type": "markdown",
   "metadata": {},
   "source": [
    "<b>4. Statitical Test</b><br>\n",
    "We can perform the Chi-Squared Test for Independence\n",
    "\n",
    "Find the critical point using Percent Point Function(PPF) or by using chi2-table <br>\n",
    "We need significance level and degrees of freedom to find the critical value<br>\n",
    "\n",
    "alpha = 0.05<br>\n",
    "DOF = (rows-1)(columns-1) = (5)(1) = 5"
   ]
  },
  {
   "cell_type": "code",
   "execution_count": 6,
   "metadata": {},
   "outputs": [
    {
     "name": "stdout",
     "output_type": "stream",
     "text": [
      "The critical value of 95% confidence level and with 5 degrees of freedom: 12.832501994030027\n"
     ]
    }
   ],
   "source": [
    "from scipy.stats import chi2      ####chi2 function allows you to work with the Chi-Square distribution.\n",
    "\n",
    "# Defining the probability\n",
    "p = 1 - alpha/2\n",
    "\n",
    "# Degrees of freedom\n",
    "df = 5\n",
    "\n",
    "critical_value = chi2.ppf(p,df)\n",
    "print(\"The critical value of 95% confidence level and with 5 degrees of freedom:\",critical_value)"
   ]
  },
  {
   "cell_type": "code",
   "execution_count": 11,
   "metadata": {},
   "outputs": [
    {
     "name": "stdout",
     "output_type": "stream",
     "text": [
      "The Chi-Square statistic is: 173.71857686007684\n",
      "The p-value is: 1.1736988372787206e-35\n",
      "The Degree of Freedom is: 5\n",
      "The The expected frequencies is: [[126.87963491 203.12036509]\n",
      " [113.42270394 181.57729606]\n",
      " [132.64689104 212.35310896]\n",
      " [110.73131774 177.26868226]\n",
      " [111.11580148 177.88419852]\n",
      " [ 79.20365088 126.79634912]]\n"
     ]
    }
   ],
   "source": [
    "from scipy import stats\n",
    "\n",
    "chi2_statistic, p_value, dof, expected_vals = stats.chi2_contingency(data_table)\n",
    "\n",
    "print('The Chi-Square statistic is:', chi2_statistic)\n",
    "print('The p-value is:',p_value)\n",
    "print('The Degree of Freedom is:', dof)\n",
    "print('The The expected frequencies is:', expected_vals)"
   ]
  },
  {
   "cell_type": "markdown",
   "metadata": {},
   "source": [
    "<b>5. Interpret the Result</b>\n",
    "\n",
    "If the Chi-square statistic is greater than +(critical value) or less than -(critical value) then we reject the Null Hypothesis."
   ]
  },
  {
   "cell_type": "code",
   "execution_count": 30,
   "metadata": {},
   "outputs": [
    {
     "name": "stdout",
     "output_type": "stream",
     "text": [
      "Reject Null Hypothesis. There is a relationship between gender and major.\n"
     ]
    }
   ],
   "source": [
    "if -(critical_value) < chi2_statistic < +(critical_value):\n",
    "    print('Fail to reject Null Hypothesis. There is no relationship between gender and major.')\n",
    "else:\n",
    "    print('Reject Null Hypothesis. There is a relationship between gender and major.')"
   ]
  },
  {
   "cell_type": "markdown",
   "metadata": {},
   "source": [
    "In a chi-square, you typically reject the null hypothesis when the chi-square statistic is greater than the critical value."
   ]
  },
  {
   "cell_type": "markdown",
   "metadata": {},
   "source": [
    "### Inference\n",
    "We have performed a hypothesis test to check whether there is a relationship between gender and major or not.<br>\n",
    "After performing the hypothesis test and we conclude that there is a relationship between gender and major"
   ]
  }
 ],
 "metadata": {
  "kernelspec": {
   "display_name": "Python 3 (ipykernel)",
   "language": "python",
   "name": "python3"
  },
  "language_info": {
   "codemirror_mode": {
    "name": "ipython",
    "version": 3
   },
   "file_extension": ".py",
   "mimetype": "text/x-python",
   "name": "python",
   "nbconvert_exporter": "python",
   "pygments_lexer": "ipython3",
   "version": "3.12.4"
  }
 },
 "nbformat": 4,
 "nbformat_minor": 4
}
